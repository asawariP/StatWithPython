{
  "nbformat": 4,
  "nbformat_minor": 0,
  "metadata": {
    "colab": {
      "provenance": [],
      "authorship_tag": "ABX9TyMmn39uyD9DHYB1g6jZsVVE",
      "include_colab_link": true
    },
    "kernelspec": {
      "name": "python3",
      "display_name": "Python 3"
    },
    "language_info": {
      "name": "python"
    }
  },
  "cells": [
    {
      "cell_type": "markdown",
      "metadata": {
        "id": "view-in-github",
        "colab_type": "text"
      },
      "source": [
        "<a href=\"https://colab.research.google.com/github/asawariP/StatWithPython/blob/main/outlier.ipynb\" target=\"_parent\"><img src=\"https://colab.research.google.com/assets/colab-badge.svg\" alt=\"Open In Colab\"/></a>"
      ]
    },
    {
      "cell_type": "code",
      "execution_count": null,
      "metadata": {
        "id": "6y5lgDO7s5EJ"
      },
      "outputs": [],
      "source": [
        "#handling outlier"
      ]
    },
    {
      "cell_type": "markdown",
      "source": [
        "Minimum Value\n",
        "Q1- 25 percentile\n",
        "Median\n",
        "Q3- 75 percentile\n",
        "MAximum"
      ],
      "metadata": {
        "id": "ldXGHZMZeRgJ"
      }
    },
    {
      "cell_type": "code",
      "source": [
        "import numpy as np\n",
        "lst_marks = [6,80, 90,  45, 32, 56, 75 , 89, 54, 32, 89 , 90, 87 , 67 , 54, 45, 98, 99, 67 , 74, 1000, 1100]\n"
      ],
      "metadata": {
        "id": "QYzfSs_1tAL2"
      },
      "execution_count": 2,
      "outputs": []
    },
    {
      "cell_type": "code",
      "source": [
        "## [Lower fence <--> Higher fence]\n",
        "q1=np.percentile(lst_marks, [25])\n",
        "print(q1)"
      ],
      "metadata": {
        "id": "_-xvnXvRtAeT",
        "colab": {
          "base_uri": "https://localhost:8080/"
        },
        "outputId": "562ae226-c60a-42f9-f155-2d6c23659394"
      },
      "execution_count": 3,
      "outputs": [
        {
          "output_type": "stream",
          "name": "stdout",
          "text": [
            "[54.]\n"
          ]
        }
      ]
    },
    {
      "cell_type": "code",
      "source": [
        "minimum, Q1, Q2, Q3, maximum = np.quantile(lst_marks, [0,0.25, 0.50, 0.75, 1.0])\n",
        "minimum, Q1, Q2, Q3, maximum"
      ],
      "metadata": {
        "id": "MezNkFi6tAgj",
        "colab": {
          "base_uri": "https://localhost:8080/"
        },
        "outputId": "13f85d3c-b1bc-420a-8363-fd0a093a7314"
      },
      "execution_count": 4,
      "outputs": [
        {
          "output_type": "execute_result",
          "data": {
            "text/plain": [
              "(6.0, 54.0, 74.5, 89.75, 1100.0)"
            ]
          },
          "metadata": {},
          "execution_count": 4
        }
      ]
    },
    {
      "cell_type": "code",
      "source": [
        "IQR=Q3-Q1\n",
        "IQR"
      ],
      "metadata": {
        "id": "cwr7UsFWtAiq",
        "colab": {
          "base_uri": "https://localhost:8080/"
        },
        "outputId": "cec8dce1-f232-4e07-c588-6ebd79dc3ffc"
      },
      "execution_count": 5,
      "outputs": [
        {
          "output_type": "execute_result",
          "data": {
            "text/plain": [
              "35.75"
            ]
          },
          "metadata": {},
          "execution_count": 5
        }
      ]
    },
    {
      "cell_type": "code",
      "source": [
        "lower_fence = Q1-1.3*(IQR)\n",
        "higher_fence = Q3+1.3*(IQR)\n",
        "lower_fence, higher_fence"
      ],
      "metadata": {
        "colab": {
          "base_uri": "https://localhost:8080/"
        },
        "id": "UaVCVVmXfVJI",
        "outputId": "18f44f30-4e9a-4394-bd0a-5c93d6c90e9d"
      },
      "execution_count": 6,
      "outputs": [
        {
          "output_type": "execute_result",
          "data": {
            "text/plain": [
              "(7.524999999999999, 136.225)"
            ]
          },
          "metadata": {},
          "execution_count": 6
        }
      ]
    },
    {
      "cell_type": "code",
      "source": [
        "\n",
        "outliers=[]\n",
        "for i in lst_marks:\n",
        "  if i>=lower_fence and i<=higher_fence:\n",
        "    pass\n",
        "  else:\n",
        "    print(str(i) + \" This element is outlier\")\n",
        "    outliers.append(i)\n",
        "\n",
        "outliers"
      ],
      "metadata": {
        "colab": {
          "base_uri": "https://localhost:8080/"
        },
        "id": "butk1xGNfVL7",
        "outputId": "163ca25c-8057-4899-9deb-f07c53f3c8d8"
      },
      "execution_count": 7,
      "outputs": [
        {
          "output_type": "stream",
          "name": "stdout",
          "text": [
            "6 This element is outlier\n",
            "1000 This element is outlier\n",
            "1100 This element is outlier\n"
          ]
        },
        {
          "output_type": "execute_result",
          "data": {
            "text/plain": [
              "[6, 1000, 1100]"
            ]
          },
          "metadata": {},
          "execution_count": 7
        }
      ]
    },
    {
      "cell_type": "code",
      "source": [
        "\n",
        "import seaborn as sns\n",
        "sns.boxplot(lst_marks)"
      ],
      "metadata": {
        "colab": {
          "base_uri": "https://localhost:8080/",
          "height": 447
        },
        "id": "Z3AY4gQtfVOm",
        "outputId": "81d5890e-4375-4cac-be19-a944f2d8738f"
      },
      "execution_count": 8,
      "outputs": [
        {
          "output_type": "execute_result",
          "data": {
            "text/plain": [
              "<Axes: >"
            ]
          },
          "metadata": {},
          "execution_count": 8
        },
        {
          "output_type": "display_data",
          "data": {
            "text/plain": [
              "<Figure size 640x480 with 1 Axes>"
            ],
            "image/png": "[encoded data removed]"
          },
          "metadata": {}
        }
      ]
    },
    {
      "cell_type": "code",
      "source": [],
      "metadata": {
        "id": "woifekQcfVRS"
      },
      "execution_count": null,
      "outputs": []
    },
    {
      "cell_type": "code",
      "source": [],
      "metadata": {
        "id": "P_UiTY37fVTZ"
      },
      "execution_count": null,
      "outputs": []
    },
    {
      "cell_type": "code",
      "source": [],
      "metadata": {
        "id": "rjjLMFxNfVVT"
      },
      "execution_count": null,
      "outputs": []
    },
    {
      "cell_type": "code",
      "source": [],
      "metadata": {
        "id": "jLzkGL4WfVXH"
      },
      "execution_count": null,
      "outputs": []
    }
  ]
}