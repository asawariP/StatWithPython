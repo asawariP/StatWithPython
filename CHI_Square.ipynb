{
  "nbformat": 4,
  "nbformat_minor": 0,
  "metadata": {
    "colab": {
      "provenance": [],
      "authorship_tag": "ABX9TyNGobry6dW2iP6yN15X0/Cb",
      "include_colab_link": true
    },
    "kernelspec": {
      "name": "python3",
      "display_name": "Python 3"
    },
    "language_info": {
      "name": "python"
    }
  },
  "cells": [
    {
      "cell_type": "markdown",
      "metadata": {
        "id": "view-in-github",
        "colab_type": "text"
      },
      "source": [
        "<a href=\"https://colab.research.google.com/github/asawariP/StatWithPython/blob/main/CHI_Square.ipynb\" target=\"_parent\"><img src=\"https://colab.research.google.com/assets/colab-badge.svg\" alt=\"Open In Colab\"/></a>"
      ]
    },
    {
      "cell_type": "code",
      "execution_count": null,
      "metadata": {
        "id": "CDAmvBNq-ohT"
      },
      "outputs": [],
      "source": [
        "##CHI Square"
      ]
    },
    {
      "cell_type": "code",
      "source": [
        "import scipy.stats as stat\n",
        "import numpy as np"
      ],
      "metadata": {
        "id": "q-Ow7COt-57S"
      },
      "execution_count": null,
      "outputs": []
    },
    {
      "cell_type": "code",
      "source": [
        "## no of hour student in weekly bases"
      ],
      "metadata": {
        "id": "zCBnBG6A-6VE"
      },
      "execution_count": null,
      "outputs": []
    },
    {
      "cell_type": "code",
      "source": [
        "expected_data=[8,6,7,9,6,9,7]\n",
        "observed_data=[7,8,6,9,9,6,7]\n"
      ],
      "metadata": {
        "id": "tOvq6SeM-6fq"
      },
      "execution_count": null,
      "outputs": []
    },
    {
      "cell_type": "code",
      "source": [
        "##CHI-Square Goodness of fit Test\n",
        "Chisquare_test_statistics,p_value = stat.chisquare(observed_data,expected_data)"
      ],
      "metadata": {
        "id": "yL4c0ZAl-6kD"
      },
      "execution_count": null,
      "outputs": []
    },
    {
      "cell_type": "code",
      "source": [
        "Chisquare_test_statistics,p_value"
      ],
      "metadata": {
        "colab": {
          "base_uri": "https://localhost:8080/"
        },
        "id": "3YasPzb9-6oQ",
        "outputId": "845d1f50-76d0-4e19-c793-2e1b03e31b98"
      },
      "execution_count": null,
      "outputs": [
        {
          "output_type": "execute_result",
          "data": {
            "text/plain": [
              "(3.4345238095238093, 0.7526596580922865)"
            ]
          },
          "metadata": {},
          "execution_count": 8
        }
      ]
    },
    {
      "cell_type": "code",
      "source": [
        "##find the critical value\n",
        "significance_value=0.05\n",
        "dof = len(expected_data)-1\n",
        "print(dof)\n",
        "critical_value=stat.chi2.ppf(1-significance_value,dof)\n",
        "critical_value"
      ],
      "metadata": {
        "colab": {
          "base_uri": "https://localhost:8080/"
        },
        "id": "1EOQIloT-6sf",
        "outputId": "f00433b8-2997-45cf-a091-c94b4abfabcd"
      },
      "execution_count": null,
      "outputs": [
        {
          "output_type": "stream",
          "name": "stdout",
          "text": [
            "6\n"
          ]
        },
        {
          "output_type": "execute_result",
          "data": {
            "text/plain": [
              "12.591587243743977"
            ]
          },
          "metadata": {},
          "execution_count": 12
        }
      ]
    },
    {
      "cell_type": "code",
      "source": [
        "if Chisquare_test_statistics>critical_value:\n",
        " print(\"Reject the null hypothesis\")\n",
        "else:\n",
        "  print(\"Accept the null hypothesis\")"
      ],
      "metadata": {
        "colab": {
          "base_uri": "https://localhost:8080/"
        },
        "id": "0aWd-CyKLw8m",
        "outputId": "057258a8-c6f2-4a82-a280-0c884ef1c0c5"
      },
      "execution_count": null,
      "outputs": [
        {
          "output_type": "stream",
          "name": "stdout",
          "text": [
            "Accept the null hypothesis\n"
          ]
        }
      ]
    }
  ]
}